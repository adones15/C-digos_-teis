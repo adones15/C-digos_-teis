{
 "cells": [
  {
   "cell_type": "markdown",
   "id": "4b146db6",
   "metadata": {},
   "source": [
    "Este código tem o objetivo de mostrar como faz para salvar um Json localmente."
   ]
  },
  {
   "cell_type": "code",
   "execution_count": null,
   "id": "68e8f34a",
   "metadata": {},
   "outputs": [],
   "source": [
    "import requests\n",
    "import json\n",
    "import pandas as pd\n",
    "\n",
    "museu = requests.get('http://museus.cultura.gov.br/api/space/find?@select=id,name,type,createTimestamp,endereco')\n",
    "m_json = json.loads(museu.content)\n",
    "\n",
    "#Salvando arquivo json no diretório\n",
    "with open(\"sample.json\", \"w\") as outfile:\n",
    "    json.dump(m_json, outfile)"
   ]
  }
 ],
 "metadata": {
  "kernelspec": {
   "display_name": "Python 3 (ipykernel)",
   "language": "python",
   "name": "python3"
  },
  "language_info": {
   "codemirror_mode": {
    "name": "ipython",
    "version": 3
   },
   "file_extension": ".py",
   "mimetype": "text/x-python",
   "name": "python",
   "nbconvert_exporter": "python",
   "pygments_lexer": "ipython3",
   "version": "3.9.12"
  }
 },
 "nbformat": 4,
 "nbformat_minor": 5
}
