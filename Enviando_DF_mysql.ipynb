{
 "cells": [
  {
   "cell_type": "markdown",
   "id": "ab582330",
   "metadata": {},
   "source": [
    "Este código tem a função de enviar um Dataframe direto para uma tabela no Mysql.\n",
    "Atenção este primeiro codigo funciona somente se a o Dataframe e a Tabela tiver as mesmas colunas, caso contrário é necessário utilizar outra forma passando um loop for conforme o segundo bloco de código."
   ]
  },
  {
   "cell_type": "code",
   "execution_count": null,
   "id": "44cb09d3",
   "metadata": {},
   "outputs": [],
   "source": [
    "import sqlalchemy as sq\n",
    "import pymysql"
   ]
  },
  {
   "cell_type": "code",
   "execution_count": null,
   "id": "1439e1bb",
   "metadata": {},
   "outputs": [],
   "source": [
    "#enviando os dados do df para o mysql\n",
    "con = sq.create_engine(f\"mysql+pymysql://*usuário*:*senha*a@*servidor*/*schema*\")\n",
    "df.to_sql(\"Adicionar o nome da tabela\", con, if_exists=\"replace\", index=False)"
   ]
  },
  {
   "cell_type": "code",
   "execution_count": null,
   "id": "a1b5097b",
   "metadata": {},
   "outputs": [],
   "source": [
    "#enviando os dados do df para o mysql com loop for quando as colunas do df são diferentes da tabela\n",
    "con = sq.create_engine(f\"mysql+pymysql://*usuário*:*senha*a@*servidor*/*schema*\")\n",
    "\n",
    "for index, row in df.iterrows():\n",
    "    con.execute(\"INSERT INTO *TABELA DE DESTINO* (*Adicionar o nome das colunas do DF*) values(*Para cada coluna adicionar um *?*)\", row.*nome da coluna*, row.*nome da outra coluna*, row.*nome de próxima coluna*)"
   ]
  }
 ],
 "metadata": {
  "kernelspec": {
   "display_name": "Python 3.10.4 64-bit",
   "language": "python",
   "name": "python3"
  },
  "language_info": {
   "codemirror_mode": {
    "name": "ipython",
    "version": 3
   },
   "file_extension": ".py",
   "mimetype": "text/x-python",
   "name": "python",
   "nbconvert_exporter": "python",
   "pygments_lexer": "ipython3",
   "version": "3.10.4"
  },
  "vscode": {
   "interpreter": {
    "hash": "52634da84371cba311ea128a5ea7cdc41ff074b781779e754b270ff9f8153cee"
   }
  }
 },
 "nbformat": 4,
 "nbformat_minor": 5
}
