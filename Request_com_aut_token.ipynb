{
 "cells": [
  {
   "cell_type": "markdown",
   "id": "73d0b8ee",
   "metadata": {},
   "source": [
    "Este código tem por função fazer uma requisição em uma API passando o token como parametro de autorização"
   ]
  },
  {
   "cell_type": "code",
   "execution_count": null,
   "id": "c828b741",
   "metadata": {},
   "outputs": [],
   "source": [
    "import requests\n",
    "import json"
   ]
  },
  {
   "cell_type": "code",
   "execution_count": null,
   "id": "80ce9e44",
   "metadata": {},
   "outputs": [],
   "source": [
    "#obtendo o json da url usando token como autenticação\n",
    "url = \"https://qd28tcd6b5.execute-api.sa-east-1.amazonaws.com/prod/PortalGeral\"\n",
    "head = {\"X-Parse-Application-Id\": \"unAFkcaNDeXajurGB7LChj8SgQYS2ptm\"}\n",
    "req = requests.get(url, headers=head)\n",
    "c_json = json.loads(req.content)\n",
    "df = pd.DataFrame(c_json)\n",
    "df.head()"
   ]
  }
 ],
 "metadata": {
  "kernelspec": {
   "display_name": "Python 3.10.4 64-bit",
   "language": "python",
   "name": "python3"
  },
  "language_info": {
   "codemirror_mode": {
    "name": "ipython",
    "version": 3
   },
   "file_extension": ".py",
   "mimetype": "text/x-python",
   "name": "python",
   "nbconvert_exporter": "python",
   "pygments_lexer": "ipython3",
   "version": "3.10.4"
  },
  "vscode": {
   "interpreter": {
    "hash": "52634da84371cba311ea128a5ea7cdc41ff074b781779e754b270ff9f8153cee"
   }
  }
 },
 "nbformat": 4,
 "nbformat_minor": 5
}
