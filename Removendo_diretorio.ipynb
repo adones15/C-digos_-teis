{
 "cells": [
  {
   "cell_type": "markdown",
   "id": "3d5147be",
   "metadata": {},
   "source": [
    "Esta função tem o objetivo de remover um diretorio desejado"
   ]
  },
  {
   "cell_type": "code",
   "execution_count": null,
   "id": "1eab9806",
   "metadata": {},
   "outputs": [],
   "source": [
    "import shutil\n",
    "import os, stat"
   ]
  },
  {
   "cell_type": "code",
   "execution_count": null,
   "id": "0bd17023",
   "metadata": {},
   "outputs": [],
   "source": [
    "#removendo um diretorio, no caso a pasta \"covid_csvs\"\n",
    "def remove_readonly(func, path, _):\n",
    "    os.chmod(path, stat.S_IWRITE)\n",
    "    func(path)\n",
    "\n",
    "shutil.rmtree(r\"C:\\Users\\win\\Notebooks\\Pessoal\\Covid\\covid_csvs\", onerror=remove_readonly)"
   ]
  }
 ],
 "metadata": {
  "kernelspec": {
   "display_name": "Python 3.10.4 64-bit",
   "language": "python",
   "name": "python3"
  },
  "language_info": {
   "codemirror_mode": {
    "name": "ipython",
    "version": 3
   },
   "file_extension": ".py",
   "mimetype": "text/x-python",
   "name": "python",
   "nbconvert_exporter": "python",
   "pygments_lexer": "ipython3",
   "version": "3.10.4"
  },
  "vscode": {
   "interpreter": {
    "hash": "52634da84371cba311ea128a5ea7cdc41ff074b781779e754b270ff9f8153cee"
   }
  }
 },
 "nbformat": 4,
 "nbformat_minor": 5
}
