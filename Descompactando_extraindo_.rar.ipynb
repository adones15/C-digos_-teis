{
 "cells": [
  {
   "cell_type": "markdown",
   "id": "ed1a5cb9",
   "metadata": {},
   "source": [
    "Código para descompactar e extrair arquivos obtidos de URL que ao clicar temos a opção de baixar os arquivos, fazendo isso via requisição como API dessa forma conseguimos descompatar o zip e extrair para pasta local."
   ]
  },
  {
   "cell_type": "code",
   "execution_count": null,
   "id": "1af63627",
   "metadata": {},
   "outputs": [],
   "source": [
    "import warnings\n",
    "import requests\n",
    "import rarfile\n",
    "import io"
   ]
  },
  {
   "cell_type": "code",
   "execution_count": null,
   "id": "0a65e35e",
   "metadata": {},
   "outputs": [],
   "source": [
    "#descompactando os arquivos\n",
    "url = \"*colocar a URL do caminho do arquivo zip para baixar\"\n",
    "warnings.filterwarnings('ignore')\n",
    "response = requests.get(url, verify = False, stream = True) #Fazendo a requisição a URL\n",
    "file = rarfile.RarFile(io.BytesIO(response.content)) #Descompactando os arquivos\n",
    "file.extractall(r\"C:\\Users\\win\\Notebooks\\Pessoal\\Covid\\covid_csvs\") #Extraindo os arquivos para o caminho desejado"
   ]
  }
 ],
 "metadata": {
  "kernelspec": {
   "display_name": "Python 3.10.4 64-bit",
   "language": "python",
   "name": "python3"
  },
  "language_info": {
   "codemirror_mode": {
    "name": "ipython",
    "version": 3
   },
   "file_extension": ".py",
   "mimetype": "text/x-python",
   "name": "python",
   "nbconvert_exporter": "python",
   "pygments_lexer": "ipython3",
   "version": "3.10.4"
  },
  "vscode": {
   "interpreter": {
    "hash": "52634da84371cba311ea128a5ea7cdc41ff074b781779e754b270ff9f8153cee"
   }
  }
 },
 "nbformat": 4,
 "nbformat_minor": 5
}
