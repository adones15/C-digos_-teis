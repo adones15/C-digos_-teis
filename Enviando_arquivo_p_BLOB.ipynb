{
 "cells": [
  {
   "cell_type": "markdown",
   "id": "393c03e8",
   "metadata": {},
   "source": [
    "Esta função tem o objetivo de enviar arquivos seja eles CSV / PARQUET / JSON Etc... para um container do Azure Blob.\n",
    "Para funcionar é necessario instalar as duas bibliotecas abaixo:\n",
    "pip install azure-storage-blob\n",
    "pip install azure.identity"
   ]
  },
  {
   "cell_type": "code",
   "execution_count": null,
   "id": "8fcb4292",
   "metadata": {},
   "outputs": [],
   "source": [
    "#Enviando o parquet para o blob\n",
    "from azure.identity import DefaultAzureCredential\n",
    "from azure.storage.blob import BlobServiceClient, BlobClient\n",
    "token_credential = DefaultAzureCredential()\n",
    "\n",
    "blob_service_client = BlobServiceClient(\n",
    "    account_url=\"Adicionar a URL do Blob que deseja enviar os dados\",\n",
    "    credential=token_credential)\n",
    "\n",
    "string = \"Adicionar a String de conexão do recurso do Blob\"\n",
    "\n",
    "blob = BlobClient.from_connection_string(conn_str=string, container_name=\"Adicionar o nome do container que será enviado o arquivo\", blob_name=\"Adicionar o nome do arquivo a ser enviado\")\n",
    "\n",
    "with open(\"Adicionar o nome do arquivo a ser enviado\",\"rb\") as data:\n",
    "    blob.upload_blob(data, overwrite=True)\n",
    "    "
   ]
  }
 ],
 "metadata": {
  "kernelspec": {
   "display_name": "Python 3.10.4 64-bit",
   "language": "python",
   "name": "python3"
  },
  "language_info": {
   "codemirror_mode": {
    "name": "ipython",
    "version": 3
   },
   "file_extension": ".py",
   "mimetype": "text/x-python",
   "name": "python",
   "nbconvert_exporter": "python",
   "pygments_lexer": "ipython3",
   "version": "3.10.4"
  },
  "vscode": {
   "interpreter": {
    "hash": "52634da84371cba311ea128a5ea7cdc41ff074b781779e754b270ff9f8153cee"
   }
  }
 },
 "nbformat": 4,
 "nbformat_minor": 5
}
